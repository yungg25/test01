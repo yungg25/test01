{
 "cells": [
  {
   "cell_type": "code",
   "execution_count": 1,
   "id": "611bd8ef",
   "metadata": {},
   "outputs": [
    {
     "name": "stdout",
     "output_type": "stream",
     "text": [
      "0\n",
      "1\n",
      "2\n"
     ]
    }
   ],
   "source": [
    "for i in range(3):\n",
    "    print(i)"
   ]
  },
  {
   "cell_type": "code",
   "execution_count": 2,
   "id": "4786e364",
   "metadata": {},
   "outputs": [
    {
     "name": "stdout",
     "output_type": "stream",
     "text": [
      "2X1= 2 2X2= 4 2X3= 6 2X4= 8 2X5= 10 2X6= 12 2X7= 14 2X8= 16 2X9= 18 \n",
      "3X1= 3 3X2= 6 3X3= 9 3X4= 12 3X5= 15 3X6= 18 3X7= 21 3X8= 24 3X9= 27 \n",
      "4X1= 4 4X2= 8 4X3= 12 4X4= 16 4X5= 20 4X6= 24 4X7= 28 4X8= 32 4X9= 36 \n",
      "5X1= 5 5X2= 10 5X3= 15 5X4= 20 5X5= 25 5X6= 30 5X7= 35 5X8= 40 5X9= 45 \n",
      "6X1= 6 6X2= 12 6X3= 18 6X4= 24 6X5= 30 6X6= 36 6X7= 42 6X8= 48 6X9= 54 \n",
      "7X1= 7 7X2= 14 7X3= 21 7X4= 28 7X5= 35 7X6= 42 7X7= 49 7X8= 56 7X9= 63 \n",
      "8X1= 8 8X2= 16 8X3= 24 8X4= 32 8X5= 40 8X6= 48 8X7= 56 8X8= 64 8X9= 72 \n",
      "9X1= 9 9X2= 18 9X3= 27 9X4= 36 9X5= 45 9X6= 54 9X7= 63 9X8= 72 9X9= 81 \n"
     ]
    }
   ],
   "source": [
    "for i in range(2,10):  # 행\n",
    "    for j in range(1,10):  # 열\n",
    "        print(f'{i}X{j}= {i*j}', end=' ')  \n",
    "    print()  \n"
   ]
  },
  {
   "cell_type": "code",
   "execution_count": 3,
   "id": "3c5df329",
   "metadata": {},
   "outputs": [
    {
     "name": "stdout",
     "output_type": "stream",
     "text": [
      "과자받았다\n",
      "초콜렛\n",
      "초콜렛\n",
      "사탕받았다.\n",
      "마라탕\n"
     ]
    }
   ],
   "source": [
    "def sujan():\n",
    "    pass\n",
    "sujan\n",
    "def sujan():\n",
    "    print('hi')\n",
    "def sujan2(gift):\n",
    "    print(gift+'받았다')\n",
    "sujan2('과자')\n",
    "def sujan3():\n",
    "    return '초콜렛'\n",
    "sujan3()\n",
    "gift =sujan3()\n",
    "print(gift)\n",
    "gift2=sujan3()\n",
    "print(gift2)\n",
    "def sujan4(gift):\n",
    "    print(gift+'받았다.')\n",
    "    return '마라탕'\n",
    "gift2= sujan4('사탕')\n",
    "print(gift2)"
   ]
  },
  {
   "cell_type": "code",
   "execution_count": 4,
   "id": "c5cffa75",
   "metadata": {},
   "outputs": [
    {
     "name": "stdout",
     "output_type": "stream",
     "text": [
      "입력값\n",
      "1\n",
      "입력값+1\n",
      "2\n",
      "입력값 +2\n",
      "3\n"
     ]
    }
   ],
   "source": [
    "def return_func(X):\n",
    "    return X\n",
    "    return \"hi\"\n",
    "return_func(5)\n",
    "def gen_func(x):\n",
    "    print('입력값')\n",
    "    yield x\n",
    "    print('입력값+1')\n",
    "    x += 1  \n",
    "    yield x\n",
    "    print('입력값 +2')\n",
    "    x += 1  \n",
    "    yield x\n",
    "for i in gen_func(1):\n",
    "    print(i)"
   ]
  },
  {
   "cell_type": "code",
   "execution_count": null,
   "id": "928c262b",
   "metadata": {},
   "outputs": [],
   "source": []
  },
  {
   "cell_type": "code",
   "execution_count": null,
   "id": "9cc2cd53",
   "metadata": {},
   "outputs": [],
   "source": []
  },
  {
   "cell_type": "code",
   "execution_count": null,
   "id": "8492b106",
   "metadata": {},
   "outputs": [],
   "source": []
  },
  {
   "cell_type": "code",
   "execution_count": null,
   "id": "884e2af0",
   "metadata": {},
   "outputs": [],
   "source": []
  },
  {
   "cell_type": "code",
   "execution_count": null,
   "id": "cd487511",
   "metadata": {},
   "outputs": [],
   "source": []
  },
  {
   "cell_type": "code",
   "execution_count": null,
   "id": "ab03b102",
   "metadata": {},
   "outputs": [],
   "source": []
  }
 ],
 "metadata": {
  "kernelspec": {
   "display_name": "Python 3",
   "language": "python",
   "name": "python3"
  },
  "language_info": {
   "codemirror_mode": {
    "name": "ipython",
    "version": 3
   },
   "file_extension": ".py",
   "mimetype": "text/x-python",
   "name": "python",
   "nbconvert_exporter": "python",
   "pygments_lexer": "ipython3",
   "version": "3.13.7"
  }
 },
 "nbformat": 4,
 "nbformat_minor": 5
}
