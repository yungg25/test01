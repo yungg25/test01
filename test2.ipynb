{
 "cells": [
  {
   "cell_type": "code",
   "execution_count": null,
   "id": "9266083b",
   "metadata": {},
   "outputs": [],
   "source": [
    "for i in range(3):\n",
    "print(\"hi\",end='')"
   ]
  },
  {
   "cell_type": "code",
   "execution_count": null,
   "id": "1d257101",
   "metadata": {},
   "outputs": [],
   "source": [
    "# 딕셔너리 데이터 타입으로 데이터 정의하고 for문으로 뽑아보세요"
   ]
  },
  {
   "cell_type": "code",
   "execution_count": 3,
   "id": "0871a282",
   "metadata": {},
   "outputs": [
    {
     "name": "stdout",
     "output_type": "stream",
     "text": [
      "1\n",
      "2\n"
     ]
    }
   ],
   "source": [
    "i = 1\n",
    "for k in {i:\"apple\", 2:\"banana\"}:\n",
    "    print(k)"
   ]
  },
  {
   "cell_type": "code",
   "execution_count": 1,
   "id": "c4cc8b4a",
   "metadata": {},
   "outputs": [
    {
     "ename": "NameError",
     "evalue": "name 'i' is not defined",
     "output_type": "error",
     "traceback": [
      "\u001b[31m---------------------------------------------------------------------------\u001b[39m",
      "\u001b[31mNameError\u001b[39m                                 Traceback (most recent call last)",
      "\u001b[36mCell\u001b[39m\u001b[36m \u001b[39m\u001b[32mIn[1]\u001b[39m\u001b[32m, line 1\u001b[39m\n\u001b[32m----> \u001b[39m\u001b[32m1\u001b[39m di={\u001b[43mi\u001b[49m:\u001b[33m\"\u001b[39m\u001b[33mapple\u001b[39m\u001b[33m\"\u001b[39m, \u001b[32m2\u001b[39m:\u001b[33m\"\u001b[39m\u001b[33mbanana\u001b[39m\u001b[33m\"\u001b[39m}\n",
      "\u001b[31mNameError\u001b[39m: name 'i' is not defined"
     ]
    }
   ],
   "source": [
    "di={i:\"apple\", 2:\"banana\"}"
   ]
  },
  {
   "cell_type": "code",
   "execution_count": null,
   "id": "2cd8d570",
   "metadata": {},
   "outputs": [
    {
     "data": {
      "text/plain": [
       "<function dict.items()>"
      ]
     },
     "execution_count": 5,
     "metadata": {},
     "output_type": "execute_result"
    }
   ],
   "source": [
    "di.items"
   ]
  },
  {
   "cell_type": "code",
   "execution_count": null,
   "id": "f970b69b",
   "metadata": {},
   "outputs": [
    {
     "name": "stdout",
     "output_type": "stream",
     "text": [
      "hi\n"
     ]
    }
   ],
   "source": [
    "if True:\n",
    "    print(\"hi\")"
   ]
  },
  {
   "cell_type": "code",
   "execution_count": 2,
   "id": "27a3b806",
   "metadata": {},
   "outputs": [],
   "source": [
    "score = 80"
   ]
  },
  {
   "cell_type": "code",
   "execution_count": 3,
   "id": "a625045e",
   "metadata": {},
   "outputs": [
    {
     "name": "stdout",
     "output_type": "stream",
     "text": [
      "B\n"
     ]
    }
   ],
   "source": [
    "if score>=90:\n",
    "    print(\"A\")\n",
    "elif score>=80:\n",
    "    print(\"B\")\n",
    "else:\n",
    "    print(\"C\")"
   ]
  },
  {
   "cell_type": "code",
   "execution_count": 4,
   "id": "37bde7fe",
   "metadata": {},
   "outputs": [
    {
     "name": "stdout",
     "output_type": "stream",
     "text": [
      "1\n",
      "hi\n",
      "5\n",
      "0\n",
      "True\n"
     ]
    }
   ],
   "source": [
    "for i in [1,'hi',5,0,True]:\n",
    "    print(i)"
   ]
  },
  {
   "cell_type": "code",
   "execution_count": 5,
   "id": "7100147e",
   "metadata": {},
   "outputs": [],
   "source": [
    "# 버스 클래스\n",
    "class Bus:\n",
    "    def __init__(self, busNumber):\n",
    "        self.busNumber = busNumber\n",
    "        self.passengerCount = 0\n",
    "        self.money = 0\n",
    "\n",
    "    def take(self):\n",
    "        self.passengerCount += 1\n",
    "        self.money += 1200\n",
    "\n",
    "    def showInfo(self):\n",
    "        print(f\"버스 {self.busNumber}번의 수입은 {self.money}원이고, 승객 수는 {self.passengerCount}명입니다.\")\n",
    "\n",
    "\n",
    "# 지하철 클래스\n",
    "class Subway:\n",
    "    def __init__(self, lineNumber):\n",
    "        self.lineNumber = lineNumber\n",
    "        self.passengerCount = 0\n",
    "        self.money = 0\n",
    "\n",
    "    def take(self):\n",
    "        self.passengerCount += 1\n",
    "        self.money += 1250\n",
    "\n",
    "    def showInfo(self):\n",
    "        print(f\"지하철 {self.lineNumber}호선의 수입은 {self.money}원이고, 승객 수는 {self.passengerCount}명입니다.\")\n",
    "\n",
    "\n",
    "# 성인 클래스\n",
    "class Adult:\n",
    "    def __init__(self, name, job, money):\n",
    "        self.name = name\n",
    "        self.job = job\n",
    "        self.money = money\n",
    "\n",
    "    def takeBus(self, bus):\n",
    "        self.money -= 1200\n",
    "        bus.take()\n",
    "\n",
    "    def takeSubway(self, subway):\n",
    "        self.money -= 1250\n",
    "        subway.take()\n",
    "\n",
    "    def showInfo(self):\n",
    "        print(f\"{self.name}({self.job})의 남은 돈은 {self.money}원입니다.\")\n"
   ]
  },
  {
   "cell_type": "code",
   "execution_count": null,
   "id": "7691194e",
   "metadata": {},
   "outputs": [],
   "source": []
  },
  {
   "cell_type": "code",
   "execution_count": null,
   "id": "3514c26f",
   "metadata": {},
   "outputs": [],
   "source": []
  }
 ],
 "metadata": {
  "kernelspec": {
   "display_name": "Python 3",
   "language": "python",
   "name": "python3"
  },
  "language_info": {
   "codemirror_mode": {
    "name": "ipython",
    "version": 3
   },
   "file_extension": ".py",
   "mimetype": "text/x-python",
   "name": "python",
   "nbconvert_exporter": "python",
   "pygments_lexer": "ipython3",
   "version": "3.13.7"
  }
 },
 "nbformat": 4,
 "nbformat_minor": 5
}
