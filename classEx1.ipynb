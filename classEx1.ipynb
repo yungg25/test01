{
 "cells": [
  {
   "cell_type": "code",
   "execution_count": 4,
   "id": "912caab1",
   "metadata": {},
   "outputs": [
    {
     "name": "stdout",
     "output_type": "stream",
     "text": [
      "차가감\n"
     ]
    }
   ],
   "source": [
    "class Car():\n",
    "    def roll(self):\n",
    "        print(\"차가감\")\n",
    "my_car=Car()\n",
    "my_car.roll()"
   ]
  },
  {
   "cell_type": "code",
   "execution_count": 9,
   "id": "2f7843f2",
   "metadata": {},
   "outputs": [
    {
     "name": "stdout",
     "output_type": "stream",
     "text": [
      "1507564902384\n"
     ]
    }
   ],
   "source": [
    "class Car():\n",
    "    def roll(self):\n",
    "        print(id(self))\n",
    "my_car2=Car()\n",
    "id(my_car2)\n",
    "my_car2.roll()\n"
   ]
  },
  {
   "cell_type": "code",
   "execution_count": 10,
   "id": "371170bd",
   "metadata": {},
   "outputs": [
    {
     "data": {
      "text/plain": [
       "'검정'"
      ]
     },
     "execution_count": 10,
     "metadata": {},
     "output_type": "execute_result"
    }
   ],
   "source": [
    "class Car:\n",
    "    def __init__(self,color):\n",
    "        self.color=color\n",
    "my_car = Car('검정')\n",
    "my_car.color"
   ]
  },
  {
   "cell_type": "code",
   "execution_count": 11,
   "id": "07712d15",
   "metadata": {},
   "outputs": [
    {
     "data": {
      "text/plain": [
       "'흰색'"
      ]
     },
     "execution_count": 11,
     "metadata": {},
     "output_type": "execute_result"
    }
   ],
   "source": [
    "my_car2 = Car('흰색')\n",
    "my_car2.color"
   ]
  },
  {
   "cell_type": "code",
   "execution_count": 12,
   "id": "af78a094",
   "metadata": {},
   "outputs": [
    {
     "name": "stdout",
     "output_type": "stream",
     "text": [
      "내 차의 색은 검정이고 굴러감\n"
     ]
    }
   ],
   "source": [
    "class Car:\n",
    "    def __init__(self,color):\n",
    "        self.color=color\n",
    "    def roll(self):\n",
    "        print(f'내 차의 색은 {self.color}이고 굴러감')\n",
    "my_car5=Car('검정')\n",
    "my_car5.roll()  "
   ]
  },
  {
   "cell_type": "code",
   "execution_count": null,
   "id": "2c763592",
   "metadata": {},
   "outputs": [],
   "source": []
  },
  {
   "cell_type": "code",
   "execution_count": null,
   "id": "5daff480",
   "metadata": {},
   "outputs": [],
   "source": []
  }
 ],
 "metadata": {
  "kernelspec": {
   "display_name": "Python 3",
   "language": "python",
   "name": "python3"
  },
  "language_info": {
   "codemirror_mode": {
    "name": "ipython",
    "version": 3
   },
   "file_extension": ".py",
   "mimetype": "text/x-python",
   "name": "python",
   "nbconvert_exporter": "python",
   "pygments_lexer": "ipython3",
   "version": "3.13.7"
  }
 },
 "nbformat": 4,
 "nbformat_minor": 5
}
