{
 "cells": [
  {
   "cell_type": "code",
   "execution_count": 1,
   "id": "18467f50",
   "metadata": {},
   "outputs": [
    {
     "name": "stdout",
     "output_type": "stream",
     "text": [
      "<function open at 0x00000267ADA713A0>\n"
     ]
    }
   ],
   "source": [
    "with open('test4.txt') as f:\n",
    "    print(open)\n"
   ]
  },
  {
   "cell_type": "code",
   "execution_count": 10,
   "id": "37e3159e",
   "metadata": {},
   "outputs": [
    {
     "name": "stdout",
     "output_type": "stream",
     "text": [
      "0으로 나누지 마세요.\n"
     ]
    }
   ],
   "source": [
    "try:\n",
    "    4 / 0\n",
    "except:\n",
    "    print('0으로 나누지 마세요.')\n"
   ]
  },
  {
   "cell_type": "code",
   "execution_count": 11,
   "id": "4fd5ad66",
   "metadata": {},
   "outputs": [
    {
     "data": {
      "text/plain": [
       "<__main__.Car at 0x267afcb8cd0>"
      ]
     },
     "execution_count": 11,
     "metadata": {},
     "output_type": "execute_result"
    }
   ],
   "source": [
    "class Car:\n",
    "    pass\n",
    "Car\n",
    "type(Car)\n",
    "id(Car)\n",
    "car1 = Car()\n",
    "car1\n",
    "car2 = Car()\n",
    "car2"
   ]
  },
  {
   "cell_type": "code",
   "execution_count": 12,
   "id": "ab7c8361",
   "metadata": {},
   "outputs": [
    {
     "data": {
      "text/plain": [
       "__main__.Car"
      ]
     },
     "execution_count": 12,
     "metadata": {},
     "output_type": "execute_result"
    }
   ],
   "source": [
    "class Car:\n",
    "    def roll():\n",
    "        print(\"차가 굴러가유...\")\n",
    "mycar = Car()\n",
    "id(mycar)\n",
    "type(mycar)"
   ]
  },
  {
   "cell_type": "code",
   "execution_count": 13,
   "id": "6698139f",
   "metadata": {},
   "outputs": [
    {
     "name": "stdout",
     "output_type": "stream",
     "text": [
      "차가 감\n"
     ]
    }
   ],
   "source": [
    "class Car():\n",
    "    def roll(self):\n",
    "        print(\"차가 감\")\n",
    "mycar=Car()\n",
    "mycar.roll()"
   ]
  },
  {
   "cell_type": "code",
   "execution_count": null,
   "id": "e7601d34",
   "metadata": {},
   "outputs": [],
   "source": []
  },
  {
   "cell_type": "code",
   "execution_count": null,
   "id": "696d4e3c",
   "metadata": {},
   "outputs": [],
   "source": []
  },
  {
   "cell_type": "code",
   "execution_count": null,
   "id": "9ef7974b",
   "metadata": {},
   "outputs": [],
   "source": []
  },
  {
   "cell_type": "code",
   "execution_count": null,
   "id": "2536df1e",
   "metadata": {},
   "outputs": [],
   "source": []
  }
 ],
 "metadata": {
  "kernelspec": {
   "display_name": "Python 3",
   "language": "python",
   "name": "python3"
  },
  "language_info": {
   "codemirror_mode": {
    "name": "ipython",
    "version": 3
   },
   "file_extension": ".py",
   "mimetype": "text/x-python",
   "name": "python",
   "nbconvert_exporter": "python",
   "pygments_lexer": "ipython3",
   "version": "3.13.7"
  }
 },
 "nbformat": 4,
 "nbformat_minor": 5
}
